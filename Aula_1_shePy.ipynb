{
  "nbformat": 4,
  "nbformat_minor": 0,
  "metadata": {
    "colab": {
      "name": "Aula 1 - shePy",
      "provenance": [],
      "authorship_tag": "ABX9TyPlesPT7/zj7QgLu4zPGPSh",
      "include_colab_link": true
    },
    "kernelspec": {
      "name": "python3",
      "display_name": "Python 3"
    },
    "language_info": {
      "name": "python"
    }
  },
  "cells": [
    {
      "cell_type": "markdown",
      "metadata": {
        "id": "view-in-github",
        "colab_type": "text"
      },
      "source": [
        "<a href=\"https://colab.research.google.com/github/Audreycn97/shepy/blob/main/Aula_1_shePy.ipynb\" target=\"_parent\"><img src=\"https://colab.research.google.com/assets/colab-badge.svg\" alt=\"Open In Colab\"/></a>"
      ]
    },
    {
      "cell_type": "markdown",
      "metadata": {
        "id": "MluS8Hhc741r"
      },
      "source": [
        "#Aula 1 - Phyton\n",
        "Nessa aula nós iremos trabalhar com **Phyton** e realizar **operações matemáticas**"
      ]
    },
    {
      "cell_type": "markdown",
      "metadata": {
        "id": "ocMCXDHe8-Ka"
      },
      "source": [
        "##Tipos de dados\n",
        "Numéricos:\n",
        "- Inteiros (**int**): 9,7, -4,-2\n",
        "- Reais (**float**): 3,14; 600,4; 00; 3,4\n",
        "Não numéricos:\n",
        "- Texto/String (**str**): 'Phyton', 'Audrey'.\n",
        "- Lógico (**bool**): True or False"
      ]
    },
    {
      "cell_type": "markdown",
      "metadata": {
        "id": "1dV-CIKG-5de"
      },
      "source": [
        "##Variáveis e identificadores\n",
        "Variáveis são elementos básicos na programação que armazenam dados que precisamos em nosso algoritmo.\n",
        "Toda variável é caracterizada por um nome por um tipo.\n",
        "Um identificador em Phyton pode conter:\n",
        "- letras (de A a Z);\n",
        "- dígitos de 0 a 9 \n",
        "- o simbolo underscore\n",
        " "
      ]
    },
    {
      "cell_type": "markdown",
      "metadata": {
        "id": "R_PLKQNDAs0Z"
      },
      "source": [
        "Regras:\n",
        "-Phyton diferencia letras maiúsculas de minúsculas"
      ]
    },
    {
      "cell_type": "code",
      "metadata": {
        "id": "WJxgWDlrEER1"
      },
      "source": [
        "nome = 'Audrey'"
      ],
      "execution_count": null,
      "outputs": []
    },
    {
      "cell_type": "code",
      "metadata": {
        "id": "3VewmZbg6CRf"
      },
      "source": [
        "idade = 23.0"
      ],
      "execution_count": null,
      "outputs": []
    },
    {
      "cell_type": "code",
      "metadata": {
        "colab": {
          "base_uri": "https://localhost:8080/"
        },
        "id": "lvuM8tN8BjsP",
        "outputId": "28fe492a-c112-4d59-dab0-be308f39c95f"
      },
      "source": [
        "type(idade)"
      ],
      "execution_count": null,
      "outputs": [
        {
          "output_type": "execute_result",
          "data": {
            "text/plain": [
              "float"
            ]
          },
          "metadata": {
            "tags": []
          },
          "execution_count": 5
        }
      ]
    },
    {
      "cell_type": "code",
      "metadata": {
        "colab": {
          "base_uri": "https://localhost:8080/"
        },
        "id": "UURJojf_Ch0f",
        "outputId": "09e53355-c8b1-4561-988c-0147d5a744fd"
      },
      "source": [
        "print ('Hello, world')"
      ],
      "execution_count": null,
      "outputs": [
        {
          "output_type": "stream",
          "text": [
            "Hello, world\n"
          ],
          "name": "stdout"
        }
      ]
    },
    {
      "cell_type": "code",
      "metadata": {
        "colab": {
          "base_uri": "https://localhost:8080/"
        },
        "id": "xKA4Q01kC4GQ",
        "outputId": "6bdc086b-6d09-4ea0-b41d-d99442edd336"
      },
      "source": [
        "mensagem = 'Hello world'\n",
        "print (mensagem)"
      ],
      "execution_count": null,
      "outputs": [
        {
          "output_type": "stream",
          "text": [
            "Hello world\n"
          ],
          "name": "stdout"
        }
      ]
    },
    {
      "cell_type": "code",
      "metadata": {
        "colab": {
          "base_uri": "https://localhost:8080/"
        },
        "id": "HXnW_oX_DO3X",
        "outputId": "ad6905db-7c3e-42c9-dabf-578ce2d0a81f"
      },
      "source": [
        "type(mensagem)"
      ],
      "execution_count": null,
      "outputs": [
        {
          "output_type": "execute_result",
          "data": {
            "text/plain": [
              "str"
            ]
          },
          "metadata": {
            "tags": []
          },
          "execution_count": 9
        }
      ]
    },
    {
      "cell_type": "code",
      "metadata": {
        "colab": {
          "base_uri": "https://localhost:8080/"
        },
        "id": "QNauLxeHDTyo",
        "outputId": "25740179-d339-4bb1-9ed0-e151c177de21"
      },
      "source": [
        "print(mensagem, 'estou aprendendo a programar')"
      ],
      "execution_count": null,
      "outputs": [
        {
          "output_type": "stream",
          "text": [
            "Hello world estou aprendendo a programar\n"
          ],
          "name": "stdout"
        }
      ]
    },
    {
      "cell_type": "code",
      "metadata": {
        "colab": {
          "base_uri": "https://localhost:8080/"
        },
        "id": "UBsKBCfVD8qd",
        "outputId": "5d889f67-2951-442d-dcf4-d90b4f8035eb"
      },
      "source": [
        "print('Hello,', nome,'!' )"
      ],
      "execution_count": null,
      "outputs": [
        {
          "output_type": "stream",
          "text": [
            "Hello, Audrey !\n"
          ],
          "name": "stdout"
        }
      ]
    },
    {
      "cell_type": "code",
      "metadata": {
        "colab": {
          "base_uri": "https://localhost:8080/"
        },
        "id": "kaCZWoNIDTnb",
        "outputId": "17c2c7a2-4309-44cd-e57d-91d11bff464f"
      },
      "source": [
        "salario = 1245.30\n",
        "type(salario)"
      ],
      "execution_count": null,
      "outputs": [
        {
          "output_type": "execute_result",
          "data": {
            "text/plain": [
              "float"
            ]
          },
          "metadata": {
            "tags": []
          },
          "execution_count": 14
        }
      ]
    },
    {
      "cell_type": "code",
      "metadata": {
        "id": "sCmjyRWqHZ9a"
      },
      "source": [
        "idade = 23\n",
        "IDADE = 24"
      ],
      "execution_count": null,
      "outputs": []
    },
    {
      "cell_type": "code",
      "metadata": {
        "colab": {
          "base_uri": "https://localhost:8080/"
        },
        "id": "zBYaGZ0WE4kA",
        "outputId": "fa54aaef-6558-4c98-a4bd-1330ff1bb605"
      },
      "source": [
        "print('O meu salário é', salario)"
      ],
      "execution_count": null,
      "outputs": [
        {
          "output_type": "stream",
          "text": [
            "O meu salário é 1245.3\n"
          ],
          "name": "stdout"
        }
      ]
    },
    {
      "cell_type": "code",
      "metadata": {
        "colab": {
          "base_uri": "https://localhost:8080/"
        },
        "id": "R9SM1ELIGLGL",
        "outputId": "f3da6697-faa1-46bb-fcbf-060b02a010f0"
      },
      "source": [
        "print ('Olá, o meu nome é {} tenho {} mas ano que vem faço {}'. format (nome, idade, IDADE))"
      ],
      "execution_count": null,
      "outputs": [
        {
          "output_type": "stream",
          "text": [
            "Olá, o meu nome é Audrey tenho 23 mas ano que vem faço 24\n"
          ],
          "name": "stdout"
        }
      ]
    },
    {
      "cell_type": "code",
      "metadata": {
        "id": "9JbG4OAJJEJJ"
      },
      "source": [
        "num1 = 3\n",
        "num2 = 2\n",
        "soma = num1 + num2"
      ],
      "execution_count": null,
      "outputs": []
    },
    {
      "cell_type": "code",
      "metadata": {
        "colab": {
          "base_uri": "https://localhost:8080/"
        },
        "id": "1rihpvCWKGWV",
        "outputId": "b3404402-f801-48a6-e596-a77350da94fa"
      },
      "source": [
        "n1 = int(input('digite um número:'))\n",
        "n2 = int(input('Digite um segundo número:'))\n",
        "n3 = int(input('Digite um terceiro número:'))\n",
        "subtração = n1 - n2 - n3\n",
        "print(subtração)"
      ],
      "execution_count": null,
      "outputs": [
        {
          "output_type": "stream",
          "text": [
            "digite um número:8\n",
            "Digite um segundo número:5\n",
            "Digite um terceiro número:3\n",
            "0\n"
          ],
          "name": "stdout"
        }
      ]
    },
    {
      "cell_type": "code",
      "metadata": {
        "colab": {
          "base_uri": "https://localhost:8080/"
        },
        "id": "-RjEzaAzMnWL",
        "outputId": "742642d3-a28b-476e-f777-5da210ef373c"
      },
      "source": [
        "n1 = float(input('digite um número:'))\n",
        "n2 = float(input('digite um número:'))\n",
        "soma = n1 + n2\n",
        "print (' A soma entre {} e {} é {}'.format (n1, n2, soma))"
      ],
      "execution_count": null,
      "outputs": [
        {
          "output_type": "stream",
          "text": [
            "digite um número:6.2\n",
            "digite um número:7.8\n",
            " A soma entre 6.2 e 7.8 é 14.0\n"
          ],
          "name": "stdout"
        }
      ]
    },
    {
      "cell_type": "code",
      "metadata": {
        "colab": {
          "base_uri": "https://localhost:8080/"
        },
        "id": "Ft0HcWsaPXFa",
        "outputId": "02434c17-bcd8-48da-c275-bcb6b322dd61"
      },
      "source": [
        "n1 = int(input('Digite um número: '))\n",
        "\n",
        "antecessor = n1 - 1\n",
        "sucessor = n1 + 1\n",
        "\n",
        "print('O antecessor do número {} é {} e o sucessor é {}'.format(n1, antecessor, sucessor))"
      ],
      "execution_count": null,
      "outputs": [
        {
          "output_type": "stream",
          "text": [
            "Digite um número: 5\n",
            "O antecessor do número 5 é 4 e o sucessor é 6\n"
          ],
          "name": "stdout"
        }
      ]
    },
    {
      "cell_type": "code",
      "metadata": {
        "colab": {
          "base_uri": "https://localhost:8080/"
        },
        "id": "3FV-qffSPrN1",
        "outputId": "2a09c0f6-fd89-4e1e-e1b9-1c8aef8d10aa"
      },
      "source": [
        "largura = float(input('digite um número:'))\n",
        "altura = float(input('digite um número:'))\n",
        "área = altura * largura\n",
        "tinta = área/2\n",
        "print ('A área entre {} de largura e {} de altura é {} e a quantidade de tinta é {} litros'. format(largura, altura, área, tinta))\n"
      ],
      "execution_count": null,
      "outputs": [
        {
          "output_type": "stream",
          "text": [
            "digite um número:5.5\n",
            "digite um número:30.1\n",
            "A área entre 5.5 de largura e 30.1 de altura é 165.55 e a quantidade de tinta é 82.775 litros\n"
          ],
          "name": "stdout"
        }
      ]
    },
    {
      "cell_type": "code",
      "metadata": {
        "colab": {
          "base_uri": "https://localhost:8080/"
        },
        "id": "-W3gpRX_Tgar",
        "outputId": "2028bafd-3b83-44e0-eb83-5b1384a2fa8d"
      },
      "source": [
        "km = float(input('Quantos km foram percorridos? '))\n",
        "days = int(input('Por quantos dias o carro foi alugado? '))\n",
        "\n",
        "price = (days * 80) + (km * 0.20)\n",
        "print('O preço a pagar é de {} reais'.format(price))"
      ],
      "execution_count": null,
      "outputs": [
        {
          "output_type": "stream",
          "text": [
            "Quantos km foram percorridos? 5\n",
            "Por quantos dias o carro foi alugado? 10\n",
            "O preço a pagar é de 801.0 reais\n"
          ],
          "name": "stdout"
        }
      ]
    },
    {
      "cell_type": "code",
      "metadata": {
        "id": "3_J4DcZ9V9eK"
      },
      "source": [
        "NOME = 'Leon'\n",
        "idade = 26\n",
        "profissão = 'cientista social'"
      ],
      "execution_count": null,
      "outputs": []
    },
    {
      "cell_type": "code",
      "metadata": {
        "colab": {
          "base_uri": "https://localhost:8080/"
        },
        "id": "KaJg-6FuWPzs",
        "outputId": "63ea1431-75bc-4bf0-c7ce-7b7ceb2cac1f"
      },
      "source": [
        "print('Olá, meu nome é {} , tenho {} anos e sou {}'.format (NOME, idade, profissão))"
      ],
      "execution_count": null,
      "outputs": [
        {
          "output_type": "stream",
          "text": [
            "Olá, meu nome é Leon , tenho 26 anos e sou cientista social\n"
          ],
          "name": "stdout"
        }
      ]
    },
    {
      "cell_type": "code",
      "metadata": {
        "colab": {
          "base_uri": "https://localhost:8080/"
        },
        "id": "c72pm63ZWubT",
        "outputId": "dc6ee09c-8043-4be6-d55b-446eca38ad63"
      },
      "source": [
        "textos = 235\n",
        "artigos = 3\n",
        "cabe = textos / artigos\n",
        "print(cabe)"
      ],
      "execution_count": null,
      "outputs": [
        {
          "output_type": "stream",
          "text": [
            "78.33333333333333\n"
          ],
          "name": "stdout"
        }
      ]
    },
    {
      "cell_type": "code",
      "metadata": {
        "colab": {
          "base_uri": "https://localhost:8080/"
        },
        "id": "3mfxItMrYsWu",
        "outputId": "7f4126b4-d6f3-481e-a46f-dfff5b118b3f"
      },
      "source": [
        "textos = int(input('digite um número'))\n",
        "artigos = int(input('digite um número'))\n",
        "cabe = textos / artigos\n",
        "print('O Leon leu {} textos para compor {} de cada um dos seus {} artigos'.format (textos, artigos, cabe))"
      ],
      "execution_count": null,
      "outputs": [
        {
          "output_type": "stream",
          "text": [
            "digite um número30\n",
            "digite um número5\n",
            "O Leon leu 30 textos para compor 5 de cada um dos seus 6.0 artigos\n"
          ],
          "name": "stdout"
        }
      ]
    }
  ]
}